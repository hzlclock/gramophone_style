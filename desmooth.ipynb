{
 "cells": [
  {
   "cell_type": "code",
   "execution_count": 14,
   "metadata": {},
   "outputs": [],
   "source": [
    "# import comet_ml in the top of your file\n",
    "# from comet_ml import Experiment\n",
    "    \n",
    "# # Add the following code anywhere in your machine learning file\n",
    "# experiment = Experiment(api_key=\"8kbyc7YDajZyTL0alFDxawj8c\",\n",
    "#                         project_name=\"sonidos\", workspace=\"hzlclock\")\n",
    "import keras\n",
    "from keras.datasets import mnist\n",
    "from keras.models import Sequential\n",
    "from keras.layers import Dense, Dropout, Flatten, SimpleRNN, LSTM, GRU, Lambda, Permute\n",
    "from keras.layers import Dense, Dropout, Embedding, LSTM, Bidirectional\n",
    "from keras.layers import Conv2D, MaxPooling2D,AveragePooling2D, Concatenate, Conv1D, MaxPooling1D\n",
    "from keras import backend as K\n",
    "from keras.utils import plot_model\n",
    "from keras.models import load_model\n",
    "from sklearn.metrics import classification_report\n",
    "import random\n",
    "import os\n",
    "import librosa\n",
    "import numpy as np\n",
    "\n",
    "import time\n",
    "import datetime\n",
    "import pytz\n",
    "import re\n",
    "import sys, tqdm\n",
    "\n",
    "import librosa\n",
    "import librosa.display\n",
    "import numpy as np\n",
    "import scipy\n",
    "import tqdm\n",
    "import IPython.display as ipd"
   ]
  },
  {
   "cell_type": "code",
   "execution_count": 2,
   "metadata": {},
   "outputs": [],
   "source": [
    "def smooth(x,window_len=11,window='hanning'):\n",
    "    \"\"\"smooth the data using a window with requested size.\n",
    "    \n",
    "    This method is based on the convolution of a scaled window with the signal.\n",
    "    The signal is prepared by introducing reflected copies of the signal \n",
    "    (with the window size) in both ends so that transient parts are minimized\n",
    "    in the begining and end part of the output signal.\n",
    "    \n",
    "    input:\n",
    "        x: the input signal \n",
    "        window_len: the dimension of the smoothing window; should be an odd integer\n",
    "        window: the type of window from 'flat', 'hanning', 'hamming', 'bartlett', 'blackman'\n",
    "            flat window will produce a moving average smoothing.\n",
    "\n",
    "    output:\n",
    "        the smoothed signal\n",
    "        \n",
    "    example:\n",
    "\n",
    "    t=linspace(-2,2,0.1)\n",
    "    x=sin(t)+randn(len(t))*0.1\n",
    "    y=smooth(x)\n",
    "    \n",
    "    see also: \n",
    "    \n",
    "    numpy.hanning, numpy.hamming, numpy.bartlett, numpy.blackman, numpy.convolve\n",
    "    scipy.signal.lfilter\n",
    " \n",
    "    TODO: the window parameter could be the window itself if an array instead of a string\n",
    "    NOTE: length(output) != length(input), to correct this: return y[(window_len/2-1):-(window_len/2)] instead of just y.\n",
    "    \"\"\"\n",
    "\n",
    "\n",
    "    s=np.r_[x[window_len-1:0:-1],x,x[-2:-window_len-1:-1]]\n",
    "    #print(len(s))\n",
    "    if window == 'flat': #moving average\n",
    "        w=np.ones(window_len,'d')\n",
    "    else:\n",
    "        w=eval('np.'+window+'(window_len)')\n",
    "\n",
    "    y=np.convolve(w/w.sum(),s,mode='valid')\n",
    "    return y"
   ]
  },
  {
   "cell_type": "code",
   "execution_count": 3,
   "metadata": {},
   "outputs": [],
   "source": [
    "# musica, sr = librosa.load('b9.wav', sr=44100)\n",
    "# musica=smooth(musica, window_len=20)"
   ]
  },
  {
   "cell_type": "code",
   "execution_count": 4,
   "metadata": {},
   "outputs": [],
   "source": [
    "# librosa.output.write_wav('gen.wav', musica, sr)"
   ]
  },
  {
   "cell_type": "code",
   "execution_count": 5,
   "metadata": {},
   "outputs": [],
   "source": [
    "# for i in load_audio('../test', 100):\n",
    "#     print(i)\n",
    "#     break"
   ]
  },
  {
   "cell_type": "code",
   "execution_count": 28,
   "metadata": {},
   "outputs": [],
   "source": [
    "def load_audio(fdir, window_sz=20, batchsz=500):\n",
    "    for f in os.listdir(fdir):\n",
    "        musica, sr = librosa.load(fdir+'/'+f, sr=44100)\n",
    "        smusica=smooth(musica, window_len=20)\n",
    "        #[win-1-win] is our training window\n",
    "        xb=[]\n",
    "        yb=[]\n",
    "        for i in range(0, musica.shape[0]-1-2*window_sz):\n",
    "            xb.append(musica[i:i+1+2*window_sz].reshape(-1,1))\n",
    "            yb.append(musica[i+window_sz+1])\n",
    "#             print(len(xb))\n",
    "            if len(xb) == batchsz:\n",
    "                yield np.array(xb), np.array(yb)\n",
    "                xb=[]\n",
    "                yb=[]\n",
    "        if len(xb)>0:\n",
    "            yield np.array(xb, dtype=np.float16), np.array(yb, dtype=np.float16)\n",
    "    #     return np.array(xb), np.array(yb)\n",
    "#             yield musica[i:i+1+2*window_sz].reshape(1,-1), musica[i+window_sz+1].reshape(1,-1)"
   ]
  },
  {
   "cell_type": "code",
   "execution_count": 39,
   "metadata": {},
   "outputs": [
    {
     "name": "stdout",
     "output_type": "stream",
     "text": [
      "_________________________________________________________________\n",
      "Layer (type)                 Output Shape              Param #   \n",
      "=================================================================\n",
      "conv1d_16 (Conv1D)           (None, 39, 32)            128       \n",
      "_________________________________________________________________\n",
      "conv1d_17 (Conv1D)           (None, 37, 64)            6208      \n",
      "_________________________________________________________________\n",
      "flatten_10 (Flatten)         (None, 2368)              0         \n",
      "_________________________________________________________________\n",
      "dense_11 (Dense)             (None, 1)                 2369      \n",
      "=================================================================\n",
      "Total params: 8,705\n",
      "Trainable params: 8,705\n",
      "Non-trainable params: 0\n",
      "_________________________________________________________________\n"
     ]
    }
   ],
   "source": [
    "window_sz=20\n",
    "# model = Sequential([\n",
    "#     Dense(1024, activation='relu', input_shape=(2*window_sz+1,)),\n",
    "#     Dense(1024, activation='relu'),\n",
    "#     Dense(1024, activation='relu'),\n",
    "#     Dense(1, activation='sigmoid'),\n",
    "# ])\n",
    "# model.compile(loss=keras.losses.mean_squared_error,\n",
    "#     optimizer=keras.optimizers.Adam(lr=0.00005, decay=1e-6, beta_1=0.9, beta_2=0.999, amsgrad=False),\n",
    "#     metrics=['accuracy'])\n",
    "\n",
    "\n",
    "# regressor = Sequential()\n",
    "\n",
    "# regressor.add(LSTM(units = 50, return_sequences = True, input_shape = (2*window_sz+1,1)))\n",
    "# regressor.add(Dropout(0.2))\n",
    "\n",
    "# regressor.add(LSTM(units = 50, return_sequences = True))\n",
    "# regressor.add(Dropout(0.2))\n",
    "\n",
    "# regressor.add(LSTM(units = 50, return_sequences = True))\n",
    "# regressor.add(Dropout(0.2))\n",
    "\n",
    "# # regressor.add(LSTM(units = 50))\n",
    "# # regressor.add(Dropout(0.2))\n",
    "\n",
    "# regressor.add(Dense(1, activation='sigmoid'))\n",
    "\n",
    "# regressor.compile(optimizer = 'adam', loss = 'mean_squared_error')\n",
    "# model=regressor\n",
    "\n",
    "# model = Sequential()\n",
    "# model.add(Embedding(1, 32, input_length=2*window_sz+1))\n",
    "# model.add(Bidirectional(LSTM(256)))\n",
    "# model.add(Dropout(0.5))\n",
    "# model.add(Dense(1, activation='sigmoid'))\n",
    "# model.compile('adam', 'binary_crossentropy', metrics=['accuracy'])\n",
    "# model.build()\n",
    "\n",
    "model = Sequential()\n",
    "model.add(Conv1D(32, (3), input_shape=(2*window_sz+1,1), activation='relu'))\n",
    "model.add(Conv1D(64, (3), activation='relu'))\n",
    "model.add(Flatten())\n",
    "model.add(Dense(1, activation='sigmoid'))\n",
    "# model.add(Dense(num_classes, activation='sigmoid'))\n",
    "\n",
    "model.compile(loss=keras.losses.mean_squared_error,\n",
    "    optimizer=keras.optimizers.Adam(lr=0.00005, decay=1e-6, beta_1=0.9, beta_2=0.999, amsgrad=False),\n",
    "    metrics=['accuracy'])\n",
    "model.summary()"
   ]
  },
  {
   "cell_type": "code",
   "execution_count": 36,
   "metadata": {},
   "outputs": [],
   "source": [
    "# for x,y in music_gen('../test'):\n",
    "#     print(x.shape)"
   ]
  },
  {
   "cell_type": "code",
   "execution_count": 41,
   "metadata": {},
   "outputs": [
    {
     "name": "stdout",
     "output_type": "stream",
     "text": [
      "1:1.0000-0.0013|2:0.8516-0.0013|3:0.1529-0.0013|4:0.0718-0.0013|5:0.0318-0.0013|6:0.0394-0.0013|7:0.0285-0.0012|8:0.0163-0.0012|9:0.0136-0.0012|10:0.0422-0.0012|11:0.0160-0.0012|12:0.0189-0.0012|13:0.0262-0.0012|14:0.0133-0.0012|15:0.0106-0.0012|16:0.0182-0.0012|17:0.0201-0.0012|18:0.0153-0.0012|19:0.0260-0.0012|20:0.0168-0.0012|21:0.0186-0.0011|22:0.0094-0.0012|23:0.0187-0.0011|24:0.0149-0.0011|25:0.0036-0.0014|26:0.0004-0.0028|27:0.0000-0.0022|28:0.0002-0.0020|29:0.0001-0.0018|30:0.0003-0.0015|31:0.0003-0.0014|32:0.0004-0.0013|33:0.0003-0.0012|34:0.0008-0.0013|35:0.0005-0.0012|36:0.0008-0.0013|37:0.0010-0.0013|38:0.0000-0.0012|39:0.0005-0.0012|40:0.0005-0.0012|41:0.0008-0.0012|42:0.0004-0.0011|43:0.0013-0.0011|44:0.0029-0.0010|45:0.0036-0.0010|46:0.0109-0.0010|47:0.0153-0.0010|48:0.0165-0.0010|49:0.0321-0.0010|50:0.0210-0.0010|51:0.0187-0.0010|52:0.0194-0.0010|53:0.0141-0.0010|54:0.0056-0.0023|55:0.0001-0.0032|56:0.0001-0.0026|57:0.0004-0.0017|58:0.0002-0.0015|59:0.0005-0.0014|60:0.0003-0.0013|61:0.0002-0.0014|62:0.0001-0.0014|63:0.0004-0.0014|64:0.0004-0.0014|65:0.0002-0.0014|66:0.0008-0.0012|67:0.0003-0.0013|68:0.0002-0.0011|69:0.0004-0.0011|70:0.0009-0.0009|71:0.0009-0.0009|72:0.0013-0.0010|73:0.0024-0.0008|74:0.0024-0.0009|75:0.0031-0.0009|76:0.0017-0.0009|77:0.0013-0.0009|78:0.0023-0.0008|79:0.0020-0.0009|80:0.0006-0.0009|81:0.0036-0.0008|82:0.0039-0.0010|83:0.0012-0.0008|84:0.0109-0.0008|85:0.0013-0.0009|86:0.0006-0.0010|87:0.0004-0.0011|88:0.0002-0.0011|89:0.0004-0.0011|90:0.0002-0.0012|91:0.0003-0.0012|92:0.0003-0.0012|93:0.0005-0.0011|94:0.0003-0.0013|95:0.0003-0.0015|96:0.0003-0.0011|97:0.0004-0.0013|98:0.0005-0.0014|99:0.0002-0.0013|100:0.0002-0.0017|101:0.0001-0.0015|102:0.0004-0.0011|103:0.0001-0.0015|104:0.0002-0.0022|105:0.0001-0.0024|106:0.0002-0.0028|107:0.0002-0.0021|108:0.0002-0.0024|109:0.0002-0.0016|110:0.0004-0.0012|111:0.0002-0.0032|112:0.0001-0.0037|113:0.0002-0.0040|114:0.0003-0.0036|115:0.0002-0.0028|116:0.0002-0.0021|117:0.0001-0.0014|118:0.0002-0.0010|119:0.0001-0.0009|120:0.0013-0.0007|121:0.0030-0.0007|122:0.0053-0.0007|123:0.0032-0.0007|124:0.0034-0.0007|125:0.0020-0.0007|126:0.0012-0.0007|127:0.0022-0.0007|128:0.0018-0.0007|129:0.0021-0.0007|130:0.0034-0.0007|131:0.0022-0.0007|132:0.0032-0.0007|133:0.0017-0.0007|134:0.1348-0.0007|135:0.1423-0.0007|136:0.1149-0.0007|137:0.0640-0.0007|138:0.0043-0.0007|139:0.0023-0.0007|140:0.0039-0.0007|141:0.0095-0.0007|142:0.0171-0.0007|143:0.0178-0.0006|144:0.0184-0.0006|145:0.0383-0.0006|146:0.0115-0.0006|147:0.0032-0.0006|148:0.0066-0.0006|149:0.0136-0.0006|150:0.0204-0.0006|151:0.0085-0.0006|152:0.0175-0.0006|153:0.0273-0.0006|154:0.0053-0.0006|155:0.0028-0.0006|156:0.0058-0.0006|157:0.0127-0.0006|158:0.0366-0.0006|159:0.0103-0.0006|160:0.0205-0.0006|161:0.0124-0.0006|162:0.0179-0.0006|163:0.0290-0.0006|164:0.0193-0.0006|165:0.0233-0.0006|166:0.0343-0.0006|167:0.0085-0.0006|168:0.0263-0.0006|169:0.0188-0.0006|170:0.0072-0.0006|171:0.0038-0.0006|172:0.0043-0.0006|173:0.0026-0.0006|174:0.0024-0.0006|175:0.0046-0.0006|176:0.0021-0.0006|177:0.0033-0.0006|178:0.0030-0.0006|179:0.0043-0.0006|180:0.0031-0.0006|181:0.0044-0.0006|182:0.0049-0.0006|183:0.0058-0.0006|184:0.0042-0.0006|185:0.0033-0.0006|186:0.0022-0.0006|187:0.0040-0.0005|188:0.0088-0.0005|189:0.0072-0.0005|190:0.0108-0.0005|191:0.0119-0.0005|192:0.0040-0.0005|193:0.0032-0.0005|194:0.0009-0.0005|195:0.0045-0.0005|196:0.0070-0.0005|197:0.0032-0.0005|198:0.0033-0.0005|199:0.0061-0.0005|200:0.0021-0.0005|201:0.0013-0.0006|202:0.0021-0.0005|203:0.0017-0.0005|204:0.0049-0.0005|205:0.0043-0.0005|206:0.0069-0.0005|207:0.0039-0.0005|208:0.0043-0.0005|209:0.0055-0.0005|210:0.0023-0.0005|211:0.0034-0.0005|212:0.0089-0.0005|213:0.0024-0.0005|214:0.0162-0.0005|215:0.0041-0.0005|216:0.0010-0.0006|217:0.0018-0.0005|218:0.0011-0.0005|219:0.0029-0.0005|220:0.0013-0.0005|221:0.0018-0.0005|222:0.0030-0.0005|223:0.0020-0.0005|224:0.0003-0.0005|225:0.0011-0.0005|226:0.0010-0.0005|227:0.0011-0.0005|228:0.0008-0.0005|229:0.0024-0.0005|230:0.0018-0.0005|231:0.0006-0.0006|232:0.0006-0.0006|233:0.0011-0.0006|234:0.0014-0.0005|235:0.0022-0.0005|236:0.0008-0.0005|237:0.0006-0.0005|238:0.0003-0.0006|239:0.0008-0.0006|240:0.0007-0.0007|241:0.0007-0.0005|242:0.0007-0.0005|243:0.0003-0.0009|244:0.0008-0.0008|245:0.0005-0.0007|246:0.0001-0.0007|247:0.0002-0.0007|248:0.0004-0.0007|249:0.0003-0.0005|250:0.0003-0.0006|251:0.0006-0.0006|252:0.0005-0.0007|253:0.0000-0.0008|254:0.0007-0.0006|255:0.0003-0.0006|256:0.0004-0.0007|257:0.0002-0.0008|258:0.0001-0.0007|259:0.0006-0.0006|260:0.0003-0.0007|261:0.0002-0.0009|262:0.0003-0.0009|263:0.0003-0.0009|264:0.0000-0.0011|265:0.0002-0.0011|266:0.0000-0.0012|267:0.0181-0.0004|268:0.0058-0.0004|269:0.0115-0.0004|270:0.0055-0.0004|271:0.0008-0.0004|272:0.0012-0.0004|273:0.0007-0.0005|274:0.0009-0.0004|275:0.0011-0.0004|276:0.0013-0.0004|277:0.0006-0.0005|278:0.0003-0.0005|279:0.0004-0.0005|280:0.0005-0.0006|281:0.0003-0.0007|282:0.0004-0.0007|283:0.0002-0.0010|284:0.0001-0.0008|285:0.0003-0.0015|286:0.0004-0.0017|287:0.0002-0.0011|288:0.0004-0.0033|289:0.0004-0.0008|290:0.0004-0.0004|291:0.0011-0.0004|292:0.0013-0.0004|293:0.0010-0.0004|294:0.0019-0.0004|295:0.0010-0.0004|296:0.0008-0.0004|297:0.0011-0.0004|298:0.0005-0.0005|299:0.0005-0.0005|300:0.0009-0.0006|301:0.0001-0.0005|302:0.0005-0.0008|303:0.0001-0.0010|304:0.0008-0.0009|305:0.0005-0.0013|306:0.0001-0.0017|307:0.0004-0.0016|308:0.0002-0.0017|309:0.0004-0.0006|310:0.0015-0.0004|311:0.0007-0.0005|312:0.0014-0.0004|313:0.0008-0.0004|314:0.0003-0.0005|315:0.0013-0.0004|316:0.0006-0.0006|317:0.0004-0.0012|318:0.0001-0.0018|319:0.0004-0.0009|320:0.0015-0.0004|321:0.0011-0.0004|322:0.0006-0.0004|323:0.0014-0.0004|324:0.0006-0.0004|325:0.0010-0.0004|326:0.0006-0.0005|327:0.0001-0.0012|328:0.0003-0.0011|329:0.0004-0.0009|330:0.0003-0.0005|331:0.0007-0.0006|332:0.0001-0.0012|333:0.0003-0.0020|334:0.0001-0.0010|335:0.0003-0.0007|336:0.0005-0.0019|337:0.0000-0.0031|338:0.0002-0.0032|339:0.0002-0.0034|340:0.0001-0.0030|341:0.0005-0.0020|342:0.0001-0.0007|343:0.0000-0.0049|344:0.0000-0.0016|345:0.0002-0.0038|346:0.0003-0.0015|347:0.0003-0.0012|348:0.0002-0.0018|349:0.0006-0.0005|350:0.0003-0.0010|351:0.0002-0.0009|352:0.0008-0.0005|353:0.0005-0.0004|354:0.0006-0.0004|355:0.0007-0.0004|356:0.0004-0.0004|357:0.0009-0.0004|358:0.0012-0.0004|359:0.0006-0.0004|360:0.0005-0.0004|361:0.0011-0.0004|362:0.0011-0.0003|363:0.0019-0.0003|364:0.0005-0.0003|365:0.0015-0.0003|366:0.0007-0.0003|367:0.0013-0.0003|368:0.0012-0.0003|369:0.0006-0.0003|370:0.0008-0.0003|371:0.0031-0.0003|372:0.0043-0.0003|373:0.0044-0.0003|374:0.0023-0.0003|375:0.0017-0.0003|376:0.0024-0.0003|377:0.0007-0.0003|378:0.0017-0.0003|379:0.0025-0.0003|380:0.0040-0.0003|381:0.0052-0.0003|382:0.0074-0.0003|383:0.0064-0.0003|384:0.0030-0.0003|385:0.0013-0.0003|386:0.0022-0.0003|387:0.0003-0.0003|388:0.0007-0.0004|389:0.0010-0.0004|"
     ]
    },
    {
     "ename": "KeyboardInterrupt",
     "evalue": "",
     "output_type": "error",
     "traceback": [
      "\u001b[1;31m-----------------------------------------------------\u001b[0m",
      "\u001b[1;31mKeyboardInterrupt\u001b[0m   Traceback (most recent call last)",
      "\u001b[1;32m<ipython-input-41-456117065e26>\u001b[0m in \u001b[0;36m<module>\u001b[1;34m\u001b[0m\n\u001b[0;32m     24\u001b[0m \u001b[1;32mfor\u001b[0m \u001b[0me\u001b[0m \u001b[1;32min\u001b[0m \u001b[0mrange\u001b[0m\u001b[1;33m(\u001b[0m\u001b[1;36m0\u001b[0m\u001b[1;33m,\u001b[0m \u001b[1;36m10\u001b[0m\u001b[1;33m)\u001b[0m\u001b[1;33m:\u001b[0m\u001b[1;33m\u001b[0m\u001b[1;33m\u001b[0m\u001b[0m\n\u001b[0;32m     25\u001b[0m \u001b[1;31m#     with experiment.train():\u001b[0m\u001b[1;33m\u001b[0m\u001b[1;33m\u001b[0m\u001b[1;33m\u001b[0m\u001b[0m\n\u001b[1;32m---> 26\u001b[1;33m         \u001b[1;32mfor\u001b[0m \u001b[0mloaded\u001b[0m \u001b[1;32min\u001b[0m \u001b[0mload_audio\u001b[0m\u001b[1;33m(\u001b[0m\u001b[1;34m'../wavdata'\u001b[0m\u001b[1;33m,\u001b[0m \u001b[0mbatchsz\u001b[0m\u001b[1;33m=\u001b[0m\u001b[0mbatchsz\u001b[0m\u001b[1;33m)\u001b[0m\u001b[1;33m:\u001b[0m\u001b[1;33m\u001b[0m\u001b[1;33m\u001b[0m\u001b[0m\n\u001b[0m\u001b[0;32m     27\u001b[0m             \u001b[0mtrain_step\u001b[0m\u001b[1;33m+=\u001b[0m\u001b[1;36m1\u001b[0m\u001b[1;33m\u001b[0m\u001b[1;33m\u001b[0m\u001b[0m\n\u001b[0;32m     28\u001b[0m \u001b[1;31m#             print(loaded[0].shape)\u001b[0m\u001b[1;33m\u001b[0m\u001b[1;33m\u001b[0m\u001b[1;33m\u001b[0m\u001b[0m\n",
      "\u001b[1;32m<ipython-input-28-1cb1e5adf177>\u001b[0m in \u001b[0;36mload_audio\u001b[1;34m(fdir, window_sz, batchsz)\u001b[0m\n\u001b[0;32m      7\u001b[0m         \u001b[0myb\u001b[0m\u001b[1;33m=\u001b[0m\u001b[1;33m[\u001b[0m\u001b[1;33m]\u001b[0m\u001b[1;33m\u001b[0m\u001b[1;33m\u001b[0m\u001b[0m\n\u001b[0;32m      8\u001b[0m         \u001b[1;32mfor\u001b[0m \u001b[0mi\u001b[0m \u001b[1;32min\u001b[0m \u001b[0mrange\u001b[0m\u001b[1;33m(\u001b[0m\u001b[1;36m0\u001b[0m\u001b[1;33m,\u001b[0m \u001b[0mmusica\u001b[0m\u001b[1;33m.\u001b[0m\u001b[0mshape\u001b[0m\u001b[1;33m[\u001b[0m\u001b[1;36m0\u001b[0m\u001b[1;33m]\u001b[0m\u001b[1;33m-\u001b[0m\u001b[1;36m1\u001b[0m\u001b[1;33m-\u001b[0m\u001b[1;36m2\u001b[0m\u001b[1;33m*\u001b[0m\u001b[0mwindow_sz\u001b[0m\u001b[1;33m)\u001b[0m\u001b[1;33m:\u001b[0m\u001b[1;33m\u001b[0m\u001b[1;33m\u001b[0m\u001b[0m\n\u001b[1;32m----> 9\u001b[1;33m             \u001b[0mxb\u001b[0m\u001b[1;33m.\u001b[0m\u001b[0mappend\u001b[0m\u001b[1;33m(\u001b[0m\u001b[0mmusica\u001b[0m\u001b[1;33m[\u001b[0m\u001b[0mi\u001b[0m\u001b[1;33m:\u001b[0m\u001b[0mi\u001b[0m\u001b[1;33m+\u001b[0m\u001b[1;36m1\u001b[0m\u001b[1;33m+\u001b[0m\u001b[1;36m2\u001b[0m\u001b[1;33m*\u001b[0m\u001b[0mwindow_sz\u001b[0m\u001b[1;33m]\u001b[0m\u001b[1;33m.\u001b[0m\u001b[0mreshape\u001b[0m\u001b[1;33m(\u001b[0m\u001b[1;33m-\u001b[0m\u001b[1;36m1\u001b[0m\u001b[1;33m,\u001b[0m\u001b[1;36m1\u001b[0m\u001b[1;33m)\u001b[0m\u001b[1;33m)\u001b[0m\u001b[1;33m\u001b[0m\u001b[1;33m\u001b[0m\u001b[0m\n\u001b[0m\u001b[0;32m     10\u001b[0m             \u001b[0myb\u001b[0m\u001b[1;33m.\u001b[0m\u001b[0mappend\u001b[0m\u001b[1;33m(\u001b[0m\u001b[0mmusica\u001b[0m\u001b[1;33m[\u001b[0m\u001b[0mi\u001b[0m\u001b[1;33m+\u001b[0m\u001b[0mwindow_sz\u001b[0m\u001b[1;33m+\u001b[0m\u001b[1;36m1\u001b[0m\u001b[1;33m]\u001b[0m\u001b[1;33m)\u001b[0m\u001b[1;33m\u001b[0m\u001b[1;33m\u001b[0m\u001b[0m\n\u001b[0;32m     11\u001b[0m \u001b[1;31m#             print(len(xb))\u001b[0m\u001b[1;33m\u001b[0m\u001b[1;33m\u001b[0m\u001b[1;33m\u001b[0m\u001b[0m\n",
      "\u001b[1;31mKeyboardInterrupt\u001b[0m: "
     ]
    }
   ],
   "source": [
    "batchsz=10000\n",
    "train_step=0\n",
    "test_step=0\n",
    "dev_step=0\n",
    "def test():\n",
    "    predict=[]\n",
    "    label=[]\n",
    "    for i in load_audio('../test', batchsz=batchsz):\n",
    "            loss, acc = model.evaluate(i[0], i[1], verbose=0)\n",
    "            metrics = {\n",
    "              'loss_test':loss,\n",
    "              'accuracy_test':acc\n",
    "            }\n",
    "            print(metrics)\n",
    "#         out=model.predict(i[0])\n",
    "#         predict+=[i for i in np.argmax(out, axis=1)]\n",
    "#         label+=[i for i in np.argmax(i[1], axis=1)]\n",
    "#         sys.stdout.write(\"T%d| \"%test_step)\n",
    "#         sys.stdout.flush()\n",
    "    print(\"====EPOCH====\",e,\"=====TEST=====\")\n",
    "    print(classification_report(label, predict))\n",
    "\n",
    "sttime=time.time()\n",
    "for e in range(0, 10):\n",
    "#     with experiment.train():\n",
    "        for loaded in load_audio('../wavdata', batchsz=batchsz):\n",
    "            train_step+=1\n",
    "#             print(loaded[0].shape)\n",
    "#             x=np.abs(loaded[0])\n",
    "#             x=np.array(x, dtype=np.float16)\n",
    "#             print(x.reshape(-1, input_shape[0], input_shape[1], input_shape[2]).shape)\n",
    "#             print(x.dtype)\n",
    "#             print(loaded[0].shape)\n",
    "            loss, acc = model.train_on_batch(loaded[0],loaded[1])\n",
    "            \n",
    "            metrics = {\n",
    "                'loss':loss,\n",
    "                'accuracy':acc\n",
    "            }\n",
    "            sys.stdout.write(\"%d:%.4f-%.4f|\"%(train_step, acc, loss))\n",
    "            sys.stdout.flush()\n",
    "#             experiment.set_step(train_step)\n",
    "#             experiment.log_metrics(metrics)\n",
    "\n",
    "#             if train_step%50==0:\n",
    "        test()"
   ]
  },
  {
   "cell_type": "code",
   "execution_count": null,
   "metadata": {},
   "outputs": [],
   "source": []
  },
  {
   "cell_type": "code",
   "execution_count": null,
   "metadata": {},
   "outputs": [],
   "source": []
  },
  {
   "cell_type": "code",
   "execution_count": null,
   "metadata": {},
   "outputs": [],
   "source": []
  }
 ],
 "metadata": {
  "kernelspec": {
   "display_name": "Python 3",
   "language": "python",
   "name": "python3"
  },
  "language_info": {
   "codemirror_mode": {
    "name": "ipython",
    "version": 3
   },
   "file_extension": ".py",
   "mimetype": "text/x-python",
   "name": "python",
   "nbconvert_exporter": "python",
   "pygments_lexer": "ipython3",
   "version": "3.7.4"
  }
 },
 "nbformat": 4,
 "nbformat_minor": 4
}
